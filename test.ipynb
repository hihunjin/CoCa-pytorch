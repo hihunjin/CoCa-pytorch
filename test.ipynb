{
 "cells": [
  {
   "cell_type": "code",
   "execution_count": 1,
   "metadata": {},
   "outputs": [],
   "source": [
    "import torch\n",
    "\n",
    "# import vision transformer\n",
    "\n",
    "from vit_pytorch.simple_vit_with_patch_dropout import SimpleViT\n",
    "from vit_pytorch.extractor import Extractor"
   ]
  },
  {
   "cell_type": "code",
   "execution_count": 2,
   "metadata": {},
   "outputs": [],
   "source": [
    "from coca_pytorch.coca_pytorch import CoCa"
   ]
  },
  {
   "cell_type": "code",
   "execution_count": 3,
   "metadata": {},
   "outputs": [],
   "source": [
    "vit = SimpleViT(\n",
    "    image_size = 256,\n",
    "    patch_size = 32,\n",
    "    num_classes = 1000,\n",
    "    dim = 1024,\n",
    "    depth = 6,\n",
    "    heads = 16,\n",
    "    mlp_dim = 2048,\n",
    "    patch_dropout = 0.5  # https://arxiv.org/abs/2212.00794\n",
    ")\n",
    "\n",
    "vit = Extractor(vit, return_embeddings_only = True, detach = False)"
   ]
  },
  {
   "cell_type": "code",
   "execution_count": 4,
   "metadata": {},
   "outputs": [],
   "source": [
    "coca = CoCa(\n",
    "    dim = 512,                     # model dimension\n",
    "    img_encoder = vit,             # vision transformer - image encoder, returning image embeddings as (batch, seq, dim)\n",
    "    image_dim = 1024,              # image embedding dimension, if not the same as model dimensions\n",
    "    num_tokens = 20000,            # number of text tokens\n",
    "    unimodal_depth = 6,            # depth of the unimodal transformer\n",
    "    multimodal_depth = 6,          # depth of the multimodal transformer\n",
    "    dim_head = 64,                 # dimension per attention head\n",
    "    heads = 8,                     # number of attention heads\n",
    "    caption_loss_weight = 1.,      # weight on the autoregressive caption loss\n",
    "    contrastive_loss_weight = 1.,  # weight on the contrastive loss between image and text CLS embeddings\n",
    ").cuda()\n"
   ]
  },
  {
   "cell_type": "code",
   "execution_count": 5,
   "metadata": {},
   "outputs": [],
   "source": [
    "text = torch.randint(0, 20000, (4, 512)).cuda()\n",
    "images = torch.randn(4, 3, 256, 256).cuda()"
   ]
  },
  {
   "cell_type": "code",
   "execution_count": 6,
   "metadata": {},
   "outputs": [],
   "source": [
    "logits = coca(\n",
    "    text = text,\n",
    "    images = images\n",
    ") # (4, 512, 20000)"
   ]
  },
  {
   "cell_type": "code",
   "execution_count": null,
   "metadata": {},
   "outputs": [],
   "source": []
  }
 ],
 "metadata": {
  "kernelspec": {
   "display_name": "Python 3",
   "language": "python",
   "name": "python3"
  },
  "language_info": {
   "codemirror_mode": {
    "name": "ipython",
    "version": 3
   },
   "file_extension": ".py",
   "mimetype": "text/x-python",
   "name": "python",
   "nbconvert_exporter": "python",
   "pygments_lexer": "ipython3",
   "version": "3.8.12"
  },
  "orig_nbformat": 4
 },
 "nbformat": 4,
 "nbformat_minor": 2
}
